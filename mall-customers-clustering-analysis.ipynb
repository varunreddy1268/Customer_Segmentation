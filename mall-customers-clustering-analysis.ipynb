{
  "nbformat": 4,
  "nbformat_minor": 0,
  "metadata": {
    "kernelspec": {
      "name": "python3",
      "display_name": "Python 3",
      "language": "python"
    },
    "language_info": {
      "name": "python",
      "version": "3.6.6",
      "mimetype": "text/x-python",
      "codemirror_mode": {
        "name": "ipython",
        "version": 3
      },
      "pygments_lexer": "ipython3",
      "nbconvert_exporter": "python",
      "file_extension": ".py"
    },
    "colab": {
      "name": "mall-customers-clustering-analysis.ipynb",
      "provenance": [],
      "toc_visible": true
    }
  },
  "cells": [
    {
      "cell_type": "code",
      "metadata": {
        "id": "fYCzevADcO5h",
        "trusted": true,
        "_kg_hide-input": true,
        "colab_type": "code",
        "colab": {}
      },
      "source": [
        "# for basic mathematics operation \n",
        "import numpy as np\n",
        "import pandas as pd\n",
        "from pandas import plotting\n",
        "\n",
        "# for visualizations\n",
        "import matplotlib.pyplot as plt\n",
        "import seaborn as sns\n"
      ],
      "execution_count": 5,
      "outputs": []
    },
    {
      "cell_type": "markdown",
      "metadata": {
        "id": "3CPkewAscpyK",
        "colab_type": "text"
      },
      "source": [
        "**Reading the Dataset**"
      ]
    },
    {
      "cell_type": "code",
      "metadata": {
        "id": "dnV20cUxcohO",
        "trusted": true,
        "_kg_hide-input": true,
        "colab_type": "code",
        "colab": {
          "base_uri": "https://localhost:8080/",
          "height": 198
        },
        "outputId": "b464f2a7-9eac-4c9f-afee-fd480d5c40eb"
      },
      "source": [
        "# importing the dataset\n",
        "data1= pd.read_csv('/content/Mall_Customers.csv')\n",
        "data1.head()"
      ],
      "execution_count": 6,
      "outputs": [
        {
          "output_type": "execute_result",
          "data": {
            "text/html": [
              "<div>\n",
              "<style scoped>\n",
              "    .dataframe tbody tr th:only-of-type {\n",
              "        vertical-align: middle;\n",
              "    }\n",
              "\n",
              "    .dataframe tbody tr th {\n",
              "        vertical-align: top;\n",
              "    }\n",
              "\n",
              "    .dataframe thead th {\n",
              "        text-align: right;\n",
              "    }\n",
              "</style>\n",
              "<table border=\"1\" class=\"dataframe\">\n",
              "  <thead>\n",
              "    <tr style=\"text-align: right;\">\n",
              "      <th></th>\n",
              "      <th>CustomerID</th>\n",
              "      <th>Gender</th>\n",
              "      <th>Age</th>\n",
              "      <th>Annual Income (k$)</th>\n",
              "      <th>Spending Score (1-100)</th>\n",
              "    </tr>\n",
              "  </thead>\n",
              "  <tbody>\n",
              "    <tr>\n",
              "      <th>0</th>\n",
              "      <td>1</td>\n",
              "      <td>Male</td>\n",
              "      <td>19</td>\n",
              "      <td>15</td>\n",
              "      <td>39</td>\n",
              "    </tr>\n",
              "    <tr>\n",
              "      <th>1</th>\n",
              "      <td>2</td>\n",
              "      <td>Male</td>\n",
              "      <td>21</td>\n",
              "      <td>15</td>\n",
              "      <td>81</td>\n",
              "    </tr>\n",
              "    <tr>\n",
              "      <th>2</th>\n",
              "      <td>3</td>\n",
              "      <td>Female</td>\n",
              "      <td>20</td>\n",
              "      <td>16</td>\n",
              "      <td>6</td>\n",
              "    </tr>\n",
              "    <tr>\n",
              "      <th>3</th>\n",
              "      <td>4</td>\n",
              "      <td>Female</td>\n",
              "      <td>23</td>\n",
              "      <td>16</td>\n",
              "      <td>77</td>\n",
              "    </tr>\n",
              "    <tr>\n",
              "      <th>4</th>\n",
              "      <td>5</td>\n",
              "      <td>Female</td>\n",
              "      <td>31</td>\n",
              "      <td>17</td>\n",
              "      <td>40</td>\n",
              "    </tr>\n",
              "  </tbody>\n",
              "</table>\n",
              "</div>"
            ],
            "text/plain": [
              "   CustomerID  Gender  Age  Annual Income (k$)  Spending Score (1-100)\n",
              "0           1    Male   19                  15                      39\n",
              "1           2    Male   21                  15                      81\n",
              "2           3  Female   20                  16                       6\n",
              "3           4  Female   23                  16                      77\n",
              "4           5  Female   31                  17                      40"
            ]
          },
          "metadata": {
            "tags": []
          },
          "execution_count": 6
        }
      ]
    },
    {
      "cell_type": "code",
      "metadata": {
        "id": "kCddXZRpdaEr",
        "trusted": true,
        "_kg_hide-input": true,
        "colab_type": "code",
        "colab": {
          "base_uri": "https://localhost:8080/",
          "height": 288
        },
        "outputId": "b6fb8a3b-0fc8-4b46-e71b-9b302c4f071a"
      },
      "source": [
        "# describing the data\n",
        "\n",
        "data1.describe()"
      ],
      "execution_count": 7,
      "outputs": [
        {
          "output_type": "execute_result",
          "data": {
            "text/html": [
              "<div>\n",
              "<style scoped>\n",
              "    .dataframe tbody tr th:only-of-type {\n",
              "        vertical-align: middle;\n",
              "    }\n",
              "\n",
              "    .dataframe tbody tr th {\n",
              "        vertical-align: top;\n",
              "    }\n",
              "\n",
              "    .dataframe thead th {\n",
              "        text-align: right;\n",
              "    }\n",
              "</style>\n",
              "<table border=\"1\" class=\"dataframe\">\n",
              "  <thead>\n",
              "    <tr style=\"text-align: right;\">\n",
              "      <th></th>\n",
              "      <th>CustomerID</th>\n",
              "      <th>Age</th>\n",
              "      <th>Annual Income (k$)</th>\n",
              "      <th>Spending Score (1-100)</th>\n",
              "    </tr>\n",
              "  </thead>\n",
              "  <tbody>\n",
              "    <tr>\n",
              "      <th>count</th>\n",
              "      <td>200.000000</td>\n",
              "      <td>200.000000</td>\n",
              "      <td>200.000000</td>\n",
              "      <td>200.000000</td>\n",
              "    </tr>\n",
              "    <tr>\n",
              "      <th>mean</th>\n",
              "      <td>100.500000</td>\n",
              "      <td>38.850000</td>\n",
              "      <td>60.560000</td>\n",
              "      <td>50.200000</td>\n",
              "    </tr>\n",
              "    <tr>\n",
              "      <th>std</th>\n",
              "      <td>57.879185</td>\n",
              "      <td>13.969007</td>\n",
              "      <td>26.264721</td>\n",
              "      <td>25.823522</td>\n",
              "    </tr>\n",
              "    <tr>\n",
              "      <th>min</th>\n",
              "      <td>1.000000</td>\n",
              "      <td>18.000000</td>\n",
              "      <td>15.000000</td>\n",
              "      <td>1.000000</td>\n",
              "    </tr>\n",
              "    <tr>\n",
              "      <th>25%</th>\n",
              "      <td>50.750000</td>\n",
              "      <td>28.750000</td>\n",
              "      <td>41.500000</td>\n",
              "      <td>34.750000</td>\n",
              "    </tr>\n",
              "    <tr>\n",
              "      <th>50%</th>\n",
              "      <td>100.500000</td>\n",
              "      <td>36.000000</td>\n",
              "      <td>61.500000</td>\n",
              "      <td>50.000000</td>\n",
              "    </tr>\n",
              "    <tr>\n",
              "      <th>75%</th>\n",
              "      <td>150.250000</td>\n",
              "      <td>49.000000</td>\n",
              "      <td>78.000000</td>\n",
              "      <td>73.000000</td>\n",
              "    </tr>\n",
              "    <tr>\n",
              "      <th>max</th>\n",
              "      <td>200.000000</td>\n",
              "      <td>70.000000</td>\n",
              "      <td>137.000000</td>\n",
              "      <td>99.000000</td>\n",
              "    </tr>\n",
              "  </tbody>\n",
              "</table>\n",
              "</div>"
            ],
            "text/plain": [
              "       CustomerID         Age  Annual Income (k$)  Spending Score (1-100)\n",
              "count  200.000000  200.000000          200.000000              200.000000\n",
              "mean   100.500000   38.850000           60.560000               50.200000\n",
              "std     57.879185   13.969007           26.264721               25.823522\n",
              "min      1.000000   18.000000           15.000000                1.000000\n",
              "25%     50.750000   28.750000           41.500000               34.750000\n",
              "50%    100.500000   36.000000           61.500000               50.000000\n",
              "75%    150.250000   49.000000           78.000000               73.000000\n",
              "max    200.000000   70.000000          137.000000               99.000000"
            ]
          },
          "metadata": {
            "tags": []
          },
          "execution_count": 7
        }
      ]
    },
    {
      "cell_type": "code",
      "metadata": {
        "id": "QQVxAt8ZdeZB",
        "trusted": true,
        "colab_type": "code",
        "colab": {
          "base_uri": "https://localhost:8080/",
          "height": 121
        },
        "outputId": "ee9eb92d-09ea-447e-dac8-5c1a5744f29c"
      },
      "source": [
        "# checking if there is any NULL data\n",
        "\n",
        "data1.isnull().any()"
      ],
      "execution_count": 8,
      "outputs": [
        {
          "output_type": "execute_result",
          "data": {
            "text/plain": [
              "CustomerID                False\n",
              "Gender                    False\n",
              "Age                       False\n",
              "Annual Income (k$)        False\n",
              "Spending Score (1-100)    False\n",
              "dtype: bool"
            ]
          },
          "metadata": {
            "tags": []
          },
          "execution_count": 8
        }
      ]
    },
    {
      "cell_type": "markdown",
      "metadata": {
        "id": "x2MRZs4bOv3T",
        "colab_type": "text"
      },
      "source": [
        "## Data Visualization"
      ]
    },
    {
      "cell_type": "markdown",
      "metadata": {
        "id": "j8hLxSsGOv3U",
        "colab_type": "text"
      },
      "source": [
        "First let us see count of people who are shooping based on age groups using Count plot"
      ]
    },
    {
      "cell_type": "code",
      "metadata": {
        "trusted": true,
        "id": "XuCmtJToOv3V",
        "colab_type": "code",
        "colab": {
          "base_uri": "https://localhost:8080/",
          "height": 442
        },
        "outputId": "ab6c4834-bdd7-493e-b408-5fb72c2a4780"
      },
      "source": [
        "plt.figure(figsize=(20,10))\n",
        "sns.countplot(data1['Age'])"
      ],
      "execution_count": 9,
      "outputs": [
        {
          "output_type": "execute_result",
          "data": {
            "text/plain": [
              "<matplotlib.axes._subplots.AxesSubplot at 0x7f40e216bef0>"
            ]
          },
          "metadata": {
            "tags": []
          },
          "execution_count": 9
        },
        {
          "output_type": "display_data",
          "data": {
            "image/png": "[encoded data removed]",
            "text/plain": [
              "<Figure size 1440x720 with 1 Axes>"
            ]
          },
          "metadata": {
            "tags": [],
            "needs_background": "light"
          }
        }
      ]
    },
    {
      "cell_type": "markdown",
      "metadata": {
        "id": "ggC9iECFOv3b",
        "colab_type": "text"
      },
      "source": [
        "1.The count is good(>5) in age groups(19-41) except few in that.\n",
        "2.And the count is porr in age groups (>51)."
      ]
    },
    {
      "cell_type": "markdown",
      "metadata": {
        "id": "kbGUDE_6Ov3c",
        "colab_type": "text"
      },
      "source": [
        "#seaborns barplots for visualizing important features income,spending"
      ]
    },
    {
      "cell_type": "code",
      "metadata": {
        "id": "eZJRA2aRkgiD",
        "_kg_hide-input": true,
        "trusted": true,
        "colab_type": "code",
        "colab": {
          "base_uri": "https://localhost:8080/",
          "height": 848
        },
        "outputId": "4805980b-356b-4c5a-e9a7-74339f612893"
      },
      "source": [
        "plt.figure(figsize=(20,10))\n",
        "sns.barplot('Age','Annual Income (k$)',data=data1,color='r')\n",
        "plt.figure(figsize=(20,10))\n",
        "sns.barplot('Age','Spending Score (1-100)',data=data1,color='b')"
      ],
      "execution_count": 10,
      "outputs": [
        {
          "output_type": "execute_result",
          "data": {
            "text/plain": [
              "<matplotlib.axes._subplots.AxesSubplot at 0x7f40e1f6b9e8>"
            ]
          },
          "metadata": {
            "tags": []
          },
          "execution_count": 10
        },
        {
          "output_type": "display_data",
          "data": {
            "image/png": "[encoded data removed]",
            "text/plain": [
              "<Figure size 1440x720 with 1 Axes>"
            ]
          },
          "metadata": {
            "tags": [],
            "needs_background": "light"
          }
        },
        {
          "output_type": "display_data",
          "data": {
            "image/png": "[encoded data removed]",
            "text/plain": [
              "<Figure size 1440x720 with 1 Axes>"
            ]
          },
          "metadata": {
            "tags": [],
            "needs_background": "light"
          }
        }
      ]
    },
    {
      "cell_type": "markdown",
      "metadata": {
        "id": "sD0XsAKSOv3m",
        "colab_type": "text"
      },
      "source": [
        "from the above graphs we can infer \n",
        "1.from income barplot we can see most of the age groups had more than 50k usdollar income.\n",
        "\n",
        "2.The least income is around 20k dollars where as heighest is around 120k.\n",
        "\n",
        "3.From the spending score barplot we can see that spending score is higher from age groups (21-36) age groups.\n",
        "\n",
        "4.And senior setizens(age>60) has low scoring rate compared to age group (21-36)."
      ]
    },
    {
      "cell_type": "markdown",
      "metadata": {
        "id": "xpPri0RZOv3n",
        "colab_type": "text"
      },
      "source": [
        "#now we will plot the same barplots based on hue factor as gender."
      ]
    },
    {
      "cell_type": "code",
      "metadata": {
        "trusted": true,
        "id": "dC9_rZw5Ov3o",
        "colab_type": "code",
        "colab": {
          "base_uri": "https://localhost:8080/",
          "height": 584
        },
        "outputId": "86ab1179-c74b-403c-a15e-1e24b7fc11e8"
      },
      "source": [
        "plt.figure(figsize=(30,10))\n",
        "sns.barplot('Age','Annual Income (k$)',hue='Gender',data=data1)\n",
        "plt.figure(figsize=(30,10))\n",
        "sns.barplot('Age','Spending Score (1-100)',hue='Gender',data=data1)"
      ],
      "execution_count": 11,
      "outputs": [
        {
          "output_type": "execute_result",
          "data": {
            "text/plain": [
              "<matplotlib.axes._subplots.AxesSubplot at 0x7f40e171e588>"
            ]
          },
          "metadata": {
            "tags": []
          },
          "execution_count": 11
        },
        {
          "output_type": "display_data",
          "data": {
            "image/png": "[encoded data removed]",
            "text/plain": [
              "<Figure size 2160x720 with 1 Axes>"
            ]
          },
          "metadata": {
            "tags": [],
            "needs_background": "light"
          }
        },
        {
          "output_type": "display_data",
          "data": {
            "image/png": "[encoded data removed]",
            "text/plain": [
              "<Figure size 2160x720 with 1 Axes>"
            ]
          },
          "metadata": {
            "tags": [],
            "needs_background": "light"
          }
        }
      ]
    },
    {
      "cell_type": "markdown",
      "metadata": {
        "id": "PBFSaFyKOv3s",
        "colab_type": "text"
      },
      "source": [
        "1.from above spending score graph we can see that their is good score(>60) in age groups (29,30,31) from both males and females  .And for the same age groups we see that their income is (medium range)."
      ]
    },
    {
      "cell_type": "code",
      "metadata": {
        "id": "bNWTBRakkU__",
        "_kg_hide-input": true,
        "trusted": true,
        "colab_type": "code",
        "colab": {
          "base_uri": "https://localhost:8080/",
          "height": 678
        },
        "outputId": "461e359c-835a-4820-fe95-7a74494cf7d9"
      },
      "source": [
        "plt.figure(figsize=(10,10))\n",
        "labels = ['Female', 'Male']\n",
        "color=['b','r']\n",
        "pie_vals = data1['Gender'].value_counts()\n",
        "plt.pie(pie_vals,colors=color, labels = labels, shadow = True, autopct = '%.2f%%')"
      ],
      "execution_count": 12,
      "outputs": [
        {
          "output_type": "execute_result",
          "data": {
            "text/plain": [
              "([<matplotlib.patches.Wedge at 0x7f40e10e3198>,\n",
              "  <matplotlib.patches.Wedge at 0x7f40e10e3be0>],\n",
              " [Text(-0.20611945413751356, 1.080515974257694, 'Female'),\n",
              "  Text(0.20611945413751367, -1.080515974257694, 'Male')],\n",
              " [Text(-0.11242879316591647, 0.5893723495951058, '56.00%'),\n",
              "  Text(0.11242879316591654, -0.5893723495951058, '44.00%')])"
            ]
          },
          "metadata": {
            "tags": []
          },
          "execution_count": 12
        },
        {
          "output_type": "display_data",
          "data": {
            "image/png": "[encoded data removed]",
            "text/plain": [
              "<Figure size 720x720 with 1 Axes>"
            ]
          },
          "metadata": {
            "tags": []
          }
        }
      ]
    },
    {
      "cell_type": "markdown",
      "metadata": {
        "id": "NOSM2tZ-Ov3y",
        "colab_type": "text"
      },
      "source": [
        "1.The females had 56% whereas the males have  44%.So there are more females who are shooping compared to males."
      ]
    },
    {
      "cell_type": "code",
      "metadata": {
        "trusted": true,
        "id": "_AZ6VsV-Ov3z",
        "colab_type": "code",
        "colab": {
          "base_uri": "https://localhost:8080/",
          "height": 224
        },
        "outputId": "0c484a44-ab06-4fec-9227-c469cb6d8b4c"
      },
      "source": [
        "data1.info()"
      ],
      "execution_count": 13,
      "outputs": [
        {
          "output_type": "stream",
          "text": [
            "<class 'pandas.core.frame.DataFrame'>\n",
            "RangeIndex: 200 entries, 0 to 199\n",
            "Data columns (total 5 columns):\n",
            " #   Column                  Non-Null Count  Dtype \n",
            "---  ------                  --------------  ----- \n",
            " 0   CustomerID              200 non-null    int64 \n",
            " 1   Gender                  200 non-null    object\n",
            " 2   Age                     200 non-null    int64 \n",
            " 3   Annual Income (k$)      200 non-null    int64 \n",
            " 4   Spending Score (1-100)  200 non-null    int64 \n",
            "dtypes: int64(4), object(1)\n",
            "memory usage: 7.9+ KB\n"
          ],
          "name": "stdout"
        }
      ]
    },
    {
      "cell_type": "code",
      "metadata": {
        "trusted": true,
        "id": "d1wjM1rjOv32",
        "colab_type": "code",
        "colab": {
          "base_uri": "https://localhost:8080/",
          "height": 207
        },
        "outputId": "0a552a02-0b44-4f52-c447-c54c0f30b0fc"
      },
      "source": [
        "data1.drop('CustomerID',axis=1,inplace=True)\n",
        "data1.info()"
      ],
      "execution_count": 14,
      "outputs": [
        {
          "output_type": "stream",
          "text": [
            "<class 'pandas.core.frame.DataFrame'>\n",
            "RangeIndex: 200 entries, 0 to 199\n",
            "Data columns (total 4 columns):\n",
            " #   Column                  Non-Null Count  Dtype \n",
            "---  ------                  --------------  ----- \n",
            " 0   Gender                  200 non-null    object\n",
            " 1   Age                     200 non-null    int64 \n",
            " 2   Annual Income (k$)      200 non-null    int64 \n",
            " 3   Spending Score (1-100)  200 non-null    int64 \n",
            "dtypes: int64(3), object(1)\n",
            "memory usage: 6.4+ KB\n"
          ],
          "name": "stdout"
        }
      ]
    },
    {
      "cell_type": "code",
      "metadata": {
        "id": "6lI0QgyfhNjo",
        "_kg_hide-input": true,
        "trusted": true,
        "colab_type": "code",
        "colab": {
          "base_uri": "https://localhost:8080/",
          "height": 394
        },
        "outputId": "f4beb155-9a0a-4ea3-e271-805a2c052bc0"
      },
      "source": [
        "sns.heatmap(data1.corr(),cmap='RdBu',annot=True)"
      ],
      "execution_count": 15,
      "outputs": [
        {
          "output_type": "execute_result",
          "data": {
            "text/plain": [
              "<matplotlib.axes._subplots.AxesSubplot at 0x7f40e18ce390>"
            ]
          },
          "metadata": {
            "tags": []
          },
          "execution_count": 15
        },
        {
          "output_type": "display_data",
          "data": {
            "image/png": "[encoded data removed]",
            "text/plain": [
              "<Figure size 432x288 with 2 Axes>"
            ]
          },
          "metadata": {
            "tags": [],
            "needs_background": "light"
          }
        }
      ]
    },
    {
      "cell_type": "markdown",
      "metadata": {
        "id": "gavj8uQROv38",
        "colab_type": "text"
      },
      "source": [
        "## Clustering Analysis"
      ]
    },
    {
      "cell_type": "code",
      "metadata": {
        "id": "worK1OurkRGx",
        "trusted": true,
        "colab_type": "code",
        "colab": {
          "base_uri": "https://localhost:8080/",
          "height": 34
        },
        "outputId": "1d6d78b7-56b4-49c5-eb9a-21ab8b0f1ae2"
      },
      "source": [
        "x_data=data1[['Annual Income (k$)','Spending Score (1-100)']]\n",
        "x_data.shape"
      ],
      "execution_count": 16,
      "outputs": [
        {
          "output_type": "execute_result",
          "data": {
            "text/plain": [
              "(200, 2)"
            ]
          },
          "metadata": {
            "tags": []
          },
          "execution_count": 16
        }
      ]
    },
    {
      "cell_type": "code",
      "metadata": {
        "id": "vhf219y1lKbn",
        "_kg_hide-input": true,
        "trusted": true,
        "colab_type": "code",
        "colab": {
          "base_uri": "https://localhost:8080/",
          "height": 518
        },
        "outputId": "a4b16e2d-a0ba-47c6-ef96-7863eb092dae"
      },
      "source": [
        "#let us see the inertia(Inertia is the sum of squared error for each cluster the smaller the inertia the denser the cluster)\n",
        "from sklearn.cluster import KMeans\n",
        "res=[]\n",
        "for i in range(1, 30):\n",
        "    km = KMeans(n_clusters = i, max_iter = 100)\n",
        "    km.fit(x_data)\n",
        "    res.append(km.inertia_)\n",
        "res"
      ],
      "execution_count": 17,
      "outputs": [
        {
          "output_type": "execute_result",
          "data": {
            "text/plain": [
              "[269981.28,\n",
              " 181363.59595959596,\n",
              " 106348.37306211118,\n",
              " 73679.78903948834,\n",
              " 44448.45544793371,\n",
              " 37239.83554245604,\n",
              " 30241.34361793659,\n",
              " 24995.96978113596,\n",
              " 21809.927562615183,\n",
              " 19664.685196005543,\n",
              " 18003.435706482007,\n",
              " 16077.489277910578,\n",
              " 14271.670282658517,\n",
              " 13334.995484390338,\n",
              " 11855.703176253177,\n",
              " 11104.362271062271,\n",
              " 9940.610709143797,\n",
              " 9486.078286647993,\n",
              " 8539.110283617349,\n",
              " 8062.087916418695,\n",
              " 7498.534671125976,\n",
              " 7225.188903253609,\n",
              " 6930.503046775244,\n",
              " 6484.634956709957,\n",
              " 5964.3318265068265,\n",
              " 5721.019108669108,\n",
              " 5352.504413886767,\n",
              " 5338.589543789543,\n",
              " 5101.879906204907]"
            ]
          },
          "metadata": {
            "tags": []
          },
          "execution_count": 17
        }
      ]
    },
    {
      "cell_type": "code",
      "metadata": {
        "trusted": true,
        "id": "C6KksMAPOv4C",
        "colab_type": "code",
        "colab": {
          "base_uri": "https://localhost:8080/",
          "height": 296
        },
        "outputId": "7595c8a3-416b-4fe3-a338-7252bb3922fd"
      },
      "source": [
        "#lets plot the line plot for inertia and k-value.\n",
        "sns.lineplot(x=range(1,30),y=res)\n",
        "plt.xlabel('k-value in k-means')\n",
        "plt.ylabel('inertia')"
      ],
      "execution_count": 18,
      "outputs": [
        {
          "output_type": "execute_result",
          "data": {
            "text/plain": [
              "Text(0, 0.5, 'inertia')"
            ]
          },
          "metadata": {
            "tags": []
          },
          "execution_count": 18
        },
        {
          "output_type": "display_data",
          "data": {
            "image/png": "[encoded data removed]",
            "text/plain": [
              "<Figure size 432x288 with 1 Axes>"
            ]
          },
          "metadata": {
            "tags": [],
            "needs_background": "light"
          }
        }
      ]
    },
    {
      "cell_type": "markdown",
      "metadata": {
        "id": "FwSP8ixjOv4F",
        "colab_type": "text"
      },
      "source": [
        "from above graph the before (k=6) the inertia is rapidly decreaing after (k=5) the graph is inertia is slightly decreasing.So let us choose our no.of clusters=5 "
      ]
    },
    {
      "cell_type": "code",
      "metadata": {
        "id": "4teho5mpnARV",
        "_kg_hide-input": true,
        "trusted": true,
        "colab_type": "code",
        "colab": {
          "base_uri": "https://localhost:8080/",
          "height": 121
        },
        "outputId": "c0ede40b-9c5a-4200-a201-2129d28afc07"
      },
      "source": [
        "km = KMeans(n_clusters = 6, init = 'k-means++', max_iter = 300, n_init = 1)\n",
        "pred = km.fit_predict(x_data)\n",
        "print(pred)\n"
      ],
      "execution_count": 20,
      "outputs": [
        {
          "output_type": "stream",
          "text": [
            "[3 0 3 0 3 0 3 0 3 0 3 0 3 0 3 0 3 0 3 0 3 0 3 0 3 0 3 0 3 0 3 0 3 0 3 0 3\n",
            " 0 3 0 3 0 3 2 3 0 2 2 2 2 2 2 2 2 2 2 2 2 2 2 2 2 2 2 2 2 2 2 2 2 2 2 2 2\n",
            " 2 2 2 2 2 2 2 2 2 2 2 2 2 2 2 2 2 2 2 2 2 2 2 2 2 2 2 2 2 2 2 2 2 2 2 2 2\n",
            " 2 2 2 2 2 2 2 2 2 2 2 2 4 1 4 1 4 1 4 1 4 1 4 1 4 1 4 1 4 1 4 2 4 1 4 1 4\n",
            " 1 4 1 4 1 4 1 4 1 4 1 4 1 4 1 4 1 4 1 4 1 4 1 4 1 4 1 4 1 4 1 4 5 4 5 4 5\n",
            " 4 5 4 5 4 5 4 5 4 5 4 5 4 5 4]\n"
          ],
          "name": "stdout"
        }
      ]
    },
    {
      "cell_type": "code",
      "metadata": {
        "trusted": true,
        "id": "xtxCAI3dOv4I",
        "colab_type": "code",
        "colab": {
          "base_uri": "https://localhost:8080/",
          "height": 322
        },
        "outputId": "935206da-4a7d-4b72-a57a-d26c19b8bade"
      },
      "source": [
        "x_data['means_cluster']=pred\n",
        "x_data.head()"
      ],
      "execution_count": 21,
      "outputs": [
        {
          "output_type": "stream",
          "text": [
            "/usr/local/lib/python3.6/dist-packages/ipykernel_launcher.py:1: SettingWithCopyWarning: \n",
            "A value is trying to be set on a copy of a slice from a DataFrame.\n",
            "Try using .loc[row_indexer,col_indexer] = value instead\n",
            "\n",
            "See the caveats in the documentation: https://pandas.pydata.org/pandas-docs/stable/user_guide/indexing.html#returning-a-view-versus-a-copy\n",
            "  \"\"\"Entry point for launching an IPython kernel.\n"
          ],
          "name": "stderr"
        },
        {
          "output_type": "execute_result",
          "data": {
            "text/html": [
              "<div>\n",
              "<style scoped>\n",
              "    .dataframe tbody tr th:only-of-type {\n",
              "        vertical-align: middle;\n",
              "    }\n",
              "\n",
              "    .dataframe tbody tr th {\n",
              "        vertical-align: top;\n",
              "    }\n",
              "\n",
              "    .dataframe thead th {\n",
              "        text-align: right;\n",
              "    }\n",
              "</style>\n",
              "<table border=\"1\" class=\"dataframe\">\n",
              "  <thead>\n",
              "    <tr style=\"text-align: right;\">\n",
              "      <th></th>\n",
              "      <th>Annual Income (k$)</th>\n",
              "      <th>Spending Score (1-100)</th>\n",
              "      <th>means_cluster</th>\n",
              "    </tr>\n",
              "  </thead>\n",
              "  <tbody>\n",
              "    <tr>\n",
              "      <th>0</th>\n",
              "      <td>15</td>\n",
              "      <td>39</td>\n",
              "      <td>3</td>\n",
              "    </tr>\n",
              "    <tr>\n",
              "      <th>1</th>\n",
              "      <td>15</td>\n",
              "      <td>81</td>\n",
              "      <td>0</td>\n",
              "    </tr>\n",
              "    <tr>\n",
              "      <th>2</th>\n",
              "      <td>16</td>\n",
              "      <td>6</td>\n",
              "      <td>3</td>\n",
              "    </tr>\n",
              "    <tr>\n",
              "      <th>3</th>\n",
              "      <td>16</td>\n",
              "      <td>77</td>\n",
              "      <td>0</td>\n",
              "    </tr>\n",
              "    <tr>\n",
              "      <th>4</th>\n",
              "      <td>17</td>\n",
              "      <td>40</td>\n",
              "      <td>3</td>\n",
              "    </tr>\n",
              "  </tbody>\n",
              "</table>\n",
              "</div>"
            ],
            "text/plain": [
              "   Annual Income (k$)  Spending Score (1-100)  means_cluster\n",
              "0                  15                      39              3\n",
              "1                  15                      81              0\n",
              "2                  16                       6              3\n",
              "3                  16                      77              0\n",
              "4                  17                      40              3"
            ]
          },
          "metadata": {
            "tags": []
          },
          "execution_count": 21
        }
      ]
    },
    {
      "cell_type": "code",
      "metadata": {
        "trusted": true,
        "id": "l3GgWW1sOv4N",
        "colab_type": "code",
        "colab": {
          "base_uri": "https://localhost:8080/",
          "height": 367
        },
        "outputId": "c6be376d-f93e-484f-f3c2-64c403cf19ee"
      },
      "source": [
        "#now we will plot scatter plot (annual_income vs spending _score) and represent our clusters.\n",
        "plt.figure(figsize=(10,5))\n",
        "plt.scatter(x_data[x_data['means_cluster']==4]['Spending Score (1-100)'],x_data[x_data['means_cluster']==4]['Annual Income (k$)'],color='r',label='normal_customers')\n",
        "plt.scatter(x_data[x_data['means_cluster']==3]['Spending Score (1-100)'],x_data[x_data['means_cluster']==3]['Annual Income (k$)'],color='b',label='careful_spending_customers')\n",
        "plt.scatter(x_data[x_data['means_cluster']==2]['Spending Score (1-100)'],x_data[x_data['means_cluster']==2]['Annual Income (k$)'],color='g',label='target_type1')\n",
        "plt.scatter(x_data[x_data['means_cluster']==1]['Spending Score (1-100)'],x_data[x_data['means_cluster']==1]['Annual Income (k$)'],color='y',label='target_type2')\n",
        "plt.scatter(x_data[x_data['means_cluster']==0]['Spending Score (1-100)'],x_data[x_data['means_cluster']==0]['Annual Income (k$)'],color='pink',label='non_target_type_customers')\n",
        "plt.xlabel('Annual Income in (k$)')\n",
        "plt.ylabel('Spending Score(1-100)')\n",
        "plt.title(\"cluster of customers based on spending score\")\n",
        "plt.legend()"
      ],
      "execution_count": 22,
      "outputs": [
        {
          "output_type": "execute_result",
          "data": {
            "text/plain": [
              "<matplotlib.legend.Legend at 0x7f40e15ac828>"
            ]
          },
          "metadata": {
            "tags": []
          },
          "execution_count": 22
        },
        {
          "output_type": "display_data",
          "data": {
            "image/png": "[encoded data removed]",
            "text/plain": [
              "<Figure size 720x360 with 1 Axes>"
            ]
          },
          "metadata": {
            "tags": [],
            "needs_background": "light"
          }
        }
      ]
    },
    {
      "cell_type": "markdown",
      "metadata": {
        "id": "XaTVTh83Ov4T",
        "colab_type": "text"
      },
      "source": [
        "> By looking at the above clustering plot between the age of the customers and their corresponding spending scores, I have aggregated them into 4 different categories namely Usual Customers, Priority Customers, Senior Citizen Target Customers, Young Target Customers. Then after getting the results we can accordingly make different marketing strategies and policies to  optimize the spending scores of the customer in the Mall."
      ]
    }
  ]
}